{
  "nbformat": 4,
  "nbformat_minor": 0,
  "metadata": {
    "colab": {
      "private_outputs": true,
      "provenance": [],
      "collapsed_sections": [
        "vncDsAP0Gaoa",
        "FJNUwmbgGyua",
        "w6K7xa23Elo4",
        "yQaldy8SH6Dl",
        "PH-0ReGfmX4f",
        "mDgbUHAGgjLW",
        "O_i_v8NEhb9l",
        "HhfV-JJviCcP",
        "Y3lxredqlCYt",
        "3RnN4peoiCZX",
        "x71ZqKXriCWQ",
        "7hBIi_osiCS2",
        "JlHwYmJAmNHm",
        "35m5QtbWiB9F",
        "PoPl-ycgm1ru",
        "H0kj-8xxnORC",
        "nA9Y7ga8ng1Z",
        "PBTbrJXOngz2",
        "u3PMJOP6ngxN",
        "dauF4eBmngu3",
        "bKJF3rekwFvQ",
        "MSa1f5Uengrz",
        "GF8Ens_Soomf",
        "0wOQAZs5pc--",
        "K5QZ13OEpz2H",
        "lQ7QKXXCp7Bj",
        "448CDAPjqfQr",
        "KSlN3yHqYklG",
        "t6dVpIINYklI",
        "ijmpgYnKYklI",
        "-JiQyfWJYklI",
        "EM7whBJCYoAo",
        "fge-S5ZAYoAp",
        "85gYPyotYoAp",
        "RoGjAbkUYoAp",
        "4Of9eVA-YrdM",
        "iky9q4vBYrdO",
        "F6T5p64dYrdO",
        "y-Ehk30pYrdP",
        "bamQiAODYuh1",
        "QHF8YVU7Yuh3",
        "GwzvFGzlYuh3",
        "qYpmQ266Yuh3",
        "OH-pJp9IphqM",
        "bbFf2-_FphqN",
        "_ouA3fa0phqN",
        "Seke61FWphqN",
        "PIIx-8_IphqN",
        "t27r6nlMphqO",
        "r2jJGEOYphqO",
        "b0JNsNcRphqO",
        "BZR9WyysphqO",
        "jj7wYXLtphqO",
        "eZrbJ2SmphqO",
        "rFu4xreNphqO",
        "YJ55k-q6phqO",
        "gCFgpxoyphqP",
        "OVtJsKN_phqQ",
        "lssrdh5qphqQ",
        "U2RJ9gkRphqQ",
        "1M8mcRywphqQ",
        "tgIPom80phqQ",
        "JMzcOPDDphqR",
        "x-EpHcCOp1ci",
        "X_VqEhTip1ck",
        "8zGJKyg5p1ck",
        "PVzmfK_Ep1ck",
        "n3dbpmDWp1ck",
        "ylSl6qgtp1ck",
        "ZWILFDl5p1ck",
        "M7G43BXep1ck",
        "Ag9LCva-p1cl",
        "E6MkPsBcp1cl",
        "2cELzS2fp1cl",
        "3MPXvC8up1cl",
        "NC_X3p0fY2L0",
        "UV0SzAkaZNRQ",
        "YPEH6qLeZNRQ",
        "q29F0dvdveiT",
        "EXh0U9oCveiU",
        "22aHeOlLveiV",
        "JcMwzZxoAimU",
        "8G2x9gOozGDZ",
        "gCX9965dhzqZ",
        "gIfDvo9L0UH2"
      ],
      "include_colab_link": true
    },
    "kernelspec": {
      "name": "python3",
      "display_name": "Python 3"
    },
    "language_info": {
      "name": "python"
    }
  },
  "cells": [
    {
      "cell_type": "markdown",
      "metadata": {
        "id": "view-in-github",
        "colab_type": "text"
      },
      "source": [
        "<a href=\"https://colab.research.google.com/github/saif90834/ML_Projects/blob/main/Telecom%20Churn%20Analysis.ipynb\" target=\"_parent\"><img src=\"https://colab.research.google.com/assets/colab-badge.svg\" alt=\"Open In Colab\"/></a>"
      ]
    },
    {
      "cell_type": "markdown",
      "source": [
        "# **Project Name**    -\n",
        "\n"
      ],
      "metadata": {
        "id": "vncDsAP0Gaoa"
      }
    },
    {
      "cell_type": "markdown",
      "source": [
        "##### **Project Type**    - EDA\n",
        "##### **Contribution**    - Individual\n"
      ],
      "metadata": {
        "id": "beRrZCGUAJYm"
      }
    },
    {
      "cell_type": "markdown",
      "source": [
        "# **Project Summary -**"
      ],
      "metadata": {
        "id": "FJNUwmbgGyua"
      }
    },
    {
      "cell_type": "markdown",
      "source": [
        "Telecom companies often struggle with customer churn, which refers to the number of customers who leave the company over a given period. In this project, we aimed to analyze the churn rate of a telecom company and identify the factors that contribute to customer churn."
      ],
      "metadata": {
        "id": "F6v_1wHtG2nS"
      }
    },
    {
      "cell_type": "markdown",
      "source": [
        "# **GitHub Link -**"
      ],
      "metadata": {
        "id": "w6K7xa23Elo4"
      }
    },
    {
      "cell_type": "markdown",
      "source": [
        "Provide your GitHub Link here."
      ],
      "metadata": {
        "id": "h1o69JH3Eqqn"
      }
    },
    {
      "cell_type": "markdown",
      "source": [
        "# **Problem Statement**\n"
      ],
      "metadata": {
        "id": "yQaldy8SH6Dl"
      }
    },
    {
      "cell_type": "markdown",
      "source": [
        "Orange S.A., formerly France Télécom S.A., is a French multinational telecommunications corporation. The Orange Telecom's Churn Dataset, consists of cleaned customer activity data (features), along with a churn label specifying whether a customer cancelled the subscription. Explore and analyze the data to discover key factors responsible for customer churn and come up with ways/recommendations to ensure customer retention"
      ],
      "metadata": {
        "id": "DpeJGUA3kjGy"
      }
    },
    {
      "cell_type": "markdown",
      "source": [
        "#### **Define Your Business Objective?**"
      ],
      "metadata": {
        "id": "PH-0ReGfmX4f"
      }
    },
    {
      "cell_type": "markdown",
      "source": [
        "Identifying the key cause of the customer churn\n",
        "Provide steps to retain the valuable customer"
      ],
      "metadata": {
        "id": "PhDvGCAqmjP1"
      }
    },
    {
      "cell_type": "markdown",
      "source": [
        "# **General Guidelines** : -  "
      ],
      "metadata": {
        "id": "mDgbUHAGgjLW"
      }
    },
    {
      "cell_type": "markdown",
      "source": [
        "1.   Well-structured, formatted, and commented code is required.\n",
        "2.   Exception Handling, Production Grade Code & Deployment Ready Code will be a plus. Those students will be awarded some additional credits.\n",
        "     \n",
        "     The additional credits will have advantages over other students during Star Student selection.\n",
        "       \n",
        "             [ Note: - Deployment Ready Code is defined as, the whole .ipynb notebook should be executable in one go\n",
        "                       without a single error logged. ]\n",
        "\n",
        "3.   Each and every logic should have proper comments.\n",
        "4. You may add as many number of charts you want. Make Sure for each and every chart the following format should be answered.\n",
        "        \n",
        "\n",
        "```\n",
        "# Chart visualization code\n",
        "```\n",
        "            \n",
        "\n",
        "*   Why did you pick the specific chart?\n",
        "*   What is/are the insight(s) found from the chart?\n",
        "* Will the gained insights help creating a positive business impact?\n",
        "Are there any insights that lead to negative growth? Justify with specific reason.\n",
        "\n",
        "5. You have to create at least 20 logical & meaningful charts having important insights.\n",
        "\n",
        "\n",
        "[ Hints : - Do the Vizualization in  a structured way while following \"UBM\" Rule.\n",
        "\n",
        "U - Univariate Analysis,\n",
        "\n",
        "B - Bivariate Analysis (Numerical - Categorical, Numerical - Numerical, Categorical - Categorical)\n",
        "\n",
        "M - Multivariate Analysis\n",
        " ]\n",
        "\n",
        "\n",
        "\n"
      ],
      "metadata": {
        "id": "ZrxVaUj-hHfC"
      }
    },
    {
      "cell_type": "markdown",
      "source": [
        "# ***Let's Begin !***"
      ],
      "metadata": {
        "id": "O_i_v8NEhb9l"
      }
    },
    {
      "cell_type": "markdown",
      "source": [
        "## ***1. Know Your Data***"
      ],
      "metadata": {
        "id": "HhfV-JJviCcP"
      }
    },
    {
      "cell_type": "markdown",
      "source": [
        "### Import Libraries"
      ],
      "metadata": {
        "id": "Y3lxredqlCYt"
      }
    },
    {
      "cell_type": "code",
      "source": [
        "# Import Libraries\n",
        "import numpy as np\n",
        "import pandas as pd\n",
        "import matplotlib.pyplot as plt\n",
        "%matplotlib inline\n",
        "import seaborn as sns\n",
        "import ast"
      ],
      "metadata": {
        "id": "M8Vqi-pPk-HR"
      },
      "execution_count": null,
      "outputs": []
    },
    {
      "cell_type": "markdown",
      "source": [
        "### Dataset Loading"
      ],
      "metadata": {
        "id": "3RnN4peoiCZX"
      }
    },
    {
      "cell_type": "code",
      "source": [
        "# Load Dataset\n",
        "from google.colab import drive\n",
        "drive.mount('/content/drive')\n",
        "telecom_df=pd.read_csv('//content/drive/MyDrive/Almabetter Project/Telecom Churn.csv')\n",
        "telecom_df"
      ],
      "metadata": {
        "id": "4CkvbW_SlZ_R"
      },
      "execution_count": null,
      "outputs": []
    },
    {
      "cell_type": "markdown",
      "source": [
        "### Dataset First View"
      ],
      "metadata": {
        "id": "x71ZqKXriCWQ"
      }
    },
    {
      "cell_type": "code",
      "source": [
        "# Dataset First Look\n",
        "telecom_df.head()"
      ],
      "metadata": {
        "id": "LWNFOSvLl09H"
      },
      "execution_count": null,
      "outputs": []
    },
    {
      "cell_type": "markdown",
      "source": [
        "### Dataset Rows & Columns count"
      ],
      "metadata": {
        "id": "7hBIi_osiCS2"
      }
    },
    {
      "cell_type": "code",
      "source": [
        "# Dataset Rows & Columns count\n",
        "telecom_df.shape"
      ],
      "metadata": {
        "id": "Kllu7SJgmLij"
      },
      "execution_count": null,
      "outputs": []
    },
    {
      "cell_type": "markdown",
      "source": [
        "### Dataset Information"
      ],
      "metadata": {
        "id": "JlHwYmJAmNHm"
      }
    },
    {
      "cell_type": "code",
      "source": [
        "# Dataset Info\n",
        "telecom_df.info()"
      ],
      "metadata": {
        "id": "e9hRXRi6meOf"
      },
      "execution_count": null,
      "outputs": []
    },
    {
      "cell_type": "markdown",
      "source": [
        "#### Duplicate Values"
      ],
      "metadata": {
        "id": "35m5QtbWiB9F"
      }
    },
    {
      "cell_type": "code",
      "source": [
        "# Dataset Duplicate Value Count\n",
        "telecom_df.duplicated().sum()"
      ],
      "metadata": {
        "id": "1sLdpKYkmox0"
      },
      "execution_count": null,
      "outputs": []
    },
    {
      "cell_type": "markdown",
      "source": [
        "#### Missing Values/Null Values"
      ],
      "metadata": {
        "id": "PoPl-ycgm1ru"
      }
    },
    {
      "cell_type": "code",
      "source": [
        "# Missing Values/Null Values Count\n",
        "telecom_df.isnull().sum()"
      ],
      "metadata": {
        "id": "GgHWkxvamxVg"
      },
      "execution_count": null,
      "outputs": []
    },
    {
      "cell_type": "code",
      "source": [
        "# Visualizing the missing values\n",
        "sns.heatmap(telecom_df.isnull())"
      ],
      "metadata": {
        "id": "3q5wnI3om9sJ"
      },
      "execution_count": null,
      "outputs": []
    },
    {
      "cell_type": "markdown",
      "source": [
        "### What did you know about your dataset?"
      ],
      "metadata": {
        "id": "H0kj-8xxnORC"
      }
    },
    {
      "cell_type": "markdown",
      "source": [
        "The given dataset is from telecom industry. This dataset consists of 3333 rows and 20 columns of customer activity data as Area code, plan details, call details along with churn labels specifying whether the customer cancelled the subscription. There is no missing and duplicate values in the dataset"
      ],
      "metadata": {
        "id": "gfoNAAC-nUe_"
      }
    },
    {
      "cell_type": "markdown",
      "source": [
        "## ***2. Understanding Your Variables***"
      ],
      "metadata": {
        "id": "nA9Y7ga8ng1Z"
      }
    },
    {
      "cell_type": "code",
      "source": [
        "# Dataset Columns\n",
        "telecom_df.columns"
      ],
      "metadata": {
        "id": "j7xfkqrt5Ag5"
      },
      "execution_count": null,
      "outputs": []
    },
    {
      "cell_type": "code",
      "source": [
        "# Dataset Describe\n",
        "telecom_df.describe()"
      ],
      "metadata": {
        "id": "DnOaZdaE5Q5t"
      },
      "execution_count": null,
      "outputs": []
    },
    {
      "cell_type": "markdown",
      "source": [
        "### Variables Description"
      ],
      "metadata": {
        "id": "PBTbrJXOngz2"
      }
    },
    {
      "cell_type": "markdown",
      "source": [
        "State :All 51 states\n",
        "\n",
        "Account Length : How long account has been active\n",
        "\n",
        "Area Code : Code Number of Area\n",
        "\n",
        "lntl Plan : International plan activated ( yes, no )\n",
        "\n",
        "VMail Plan : Voice Mail plan activated ( yes ,no )\n",
        "\n",
        "VMail Message : No.of voice mail messages\n",
        "\n",
        "Day Mins : Total day minutes used\n",
        "\n",
        "Day calls : Total day calls made\n",
        "\n",
        "Day Charge : Total day charge\n",
        "\n",
        "Eve Mins : Total evening minutes\n",
        "\n",
        "Eve Calls : Total evening calls\n",
        "\n",
        "Eve Charge : Total evening charge\n",
        "\n",
        "Night Mins : Total night minutes\n",
        "\n",
        "Night Calls : Total night calls\n",
        "\n",
        "Night Charge : Total night charge\n",
        "\n",
        "Intl Mins : Total International minutes used\n",
        "\n",
        "Intl Calls : Total International calls made\n",
        "\n",
        "Intl Charge : Total International charge\n",
        "\n",
        "CustServ calls : Number of customer service calls made\n",
        "\n",
        "Churn : Customer churn (Target Variable True=1, False=0)"
      ],
      "metadata": {
        "id": "aJV4KIxSnxay"
      }
    },
    {
      "cell_type": "markdown",
      "source": [
        "### Check Unique Values for each variable."
      ],
      "metadata": {
        "id": "u3PMJOP6ngxN"
      }
    },
    {
      "cell_type": "code",
      "source": [
        "# Check Unique Values for each variable.\n",
        "for i in telecom_df.columns:\n",
        "  print(\"No. of unique values in \",i,\"is\", telecom_df[i].nunique())"
      ],
      "metadata": {
        "id": "zms12Yq5n-jE"
      },
      "execution_count": null,
      "outputs": []
    },
    {
      "cell_type": "markdown",
      "source": [
        "## 3. ***Data Wrangling***"
      ],
      "metadata": {
        "id": "dauF4eBmngu3"
      }
    },
    {
      "cell_type": "markdown",
      "source": [
        "### Data Wrangling Code"
      ],
      "metadata": {
        "id": "bKJF3rekwFvQ"
      }
    },
    {
      "cell_type": "code",
      "source": [
        "# Write your code to make your dataset analysis ready.\n",
        "print(\"No. of customers Churning :\",telecom_df[telecom_df['Churn']==True].Churn.count()) # Total No of Customers Churning\n",
        "\n",
        "# Variable Assigning to churned data\n",
        "churn_df = telecom_df[telecom_df['Churn']==True]\n",
        "\n",
        "# Total No of Unique Area Code\n",
        "print(\"No of Unique Area Code :\", telecom_df['Area code'].nunique())\n",
        "\n",
        "# Customers On which Internaltion plan is activated\n",
        "print(\"No of customer with international plan activated :\", telecom_df[telecom_df['International plan']=='Yes']['International plan'].count())\n",
        "\n",
        "# Customers On which Voice mail plan is activated\n",
        "print(\"No of customer with Voice mail plan activated :\", telecom_df[telecom_df['Voice mail plan']=='Yes']['Voice mail plan'].count())\n",
        "\n",
        "churn_df"
      ],
      "metadata": {
        "id": "wk-9a2fpoLcV"
      },
      "execution_count": null,
      "outputs": []
    },
    {
      "cell_type": "markdown",
      "source": [
        "### What all manipulations have you done and insights you found?"
      ],
      "metadata": {
        "id": "MSa1f5Uengrz"
      }
    },
    {
      "cell_type": "markdown",
      "source": [
        "Answer Here."
      ],
      "metadata": {
        "id": "LbyXE7I1olp8"
      }
    },
    {
      "cell_type": "markdown",
      "source": [
        "## ***4. Data Vizualization, Storytelling & Experimenting with charts : Understand the relationships between variables***"
      ],
      "metadata": {
        "id": "GF8Ens_Soomf"
      }
    },
    {
      "cell_type": "markdown",
      "source": [
        "#### Chart - 1: Dependent Variable"
      ],
      "metadata": {
        "id": "0wOQAZs5pc--"
      }
    },
    {
      "cell_type": "code",
      "source": [
        "# Chart - 1 visualization code\n",
        "print(telecom_df.Churn.value_counts())\n",
        "print(\" \")\n",
        "\n",
        "# Dependent Variable Column Visualization\n",
        "telecom_df['Churn'].value_counts().plot( kind='pie',figsize=(10,6),\n",
        "                                        autopct=\"%1.1f%%\",\n",
        "startangle=50,\n",
        "shadow=True,\n",
        "labels=['Not Churn(%)','Churn(%)'],\n",
        "colors=['green','red'],explode=[0.12,0])\n",
        "plt.title('Total Percentage of Churn')\n",
        "\n",
        "\n",
        "\n",
        "# Displaying chart\n",
        "plt.show()"
      ],
      "metadata": {
        "id": "7v_ESjsspbW7"
      },
      "execution_count": null,
      "outputs": []
    },
    {
      "cell_type": "markdown",
      "source": [
        "##### 1. Why did you pick the specific chart?"
      ],
      "metadata": {
        "id": "K5QZ13OEpz2H"
      }
    },
    {
      "cell_type": "markdown",
      "source": [
        "**Answer** I picked this pie chart to know the distribution of percentage of Churn and Not Churn"
      ],
      "metadata": {
        "id": "XESiWehPqBRc"
      }
    },
    {
      "cell_type": "markdown",
      "source": [
        "##### 2. What is/are the insight(s) found from the chart?"
      ],
      "metadata": {
        "id": "lQ7QKXXCp7Bj"
      }
    },
    {
      "cell_type": "markdown",
      "source": [
        "From the above chart we got to know that, there are 2850 customers which are not churned which is 85.5% of the whole customers data given in the dataset. In other hand, 483 customers are churned which is 14.5 % of the whole customers data given in the dataset.\n",
        "\n",
        "14.5% customers are churned which might look like a small number, but once upon a time the 14.5% was 1.45% which has grown upto 14.5%. So, immediate action should be taken."
      ],
      "metadata": {
        "id": "C_j1G7yiqdRP"
      }
    },
    {
      "cell_type": "markdown",
      "source": [
        "##### 3. Will the gained insights help creating a positive business impact?\n",
        "Are there any insights that lead to negative growth? Justify with specific reason."
      ],
      "metadata": {
        "id": "448CDAPjqfQr"
      }
    },
    {
      "cell_type": "markdown",
      "source": [
        "In ideal world the customer churn rate in telecom industry is in between 15 % to 20 % . In this we have 14.5 % churn rate which is not high but still churning customer is bad for business.\n",
        "\n",
        "It's easy to loose customers but too difficult to aquire one. One churned cutomer will make 3-4 customers away those might be acquired by your teleservice provider with \"POWER OF WORDS\".\n",
        "\n",
        "So, definitely churn rate insight is very helpful for further decisions."
      ],
      "metadata": {
        "id": "3cspy4FjqxJW"
      }
    },
    {
      "cell_type": "markdown",
      "source": [
        "#### Chart - 2"
      ],
      "metadata": {
        "id": "KSlN3yHqYklG"
      }
    },
    {
      "cell_type": "code",
      "source": [
        "# Chart - 2 visualization code\n",
        "for col in telecom_df.describe().columns:\n",
        "    fig,axes = plt.subplots(nrows=1,ncols=2,figsize=(18,6))\n",
        "    sns.histplot(telecom_df[col], ax = axes[0],kde = True)\n",
        "    sns.boxplot(telecom_df[col], ax = axes[1],orient='h',showmeans=True,color='pink')\n",
        "    fig.suptitle(\"Distribution plot of \"+ col, fontsize = 15)\n",
        "    plt.show()"
      ],
      "metadata": {
        "id": "R4YgtaqtYklH"
      },
      "execution_count": null,
      "outputs": []
    },
    {
      "cell_type": "markdown",
      "source": [
        "##### 1. Why did you pick the specific chart?"
      ],
      "metadata": {
        "id": "t6dVpIINYklI"
      }
    },
    {
      "cell_type": "markdown",
      "source": [
        "When the goal is to show the distribution of a single variable we use Histograms. Histograms are a type of bar chart that display the frequency or count of data points within certain ranges. Histograms are particularly useful for displaying continuous data, such as age, height, weight, or income. They allow you to see the shape of the distribution, including any skewness or outliers, and can help you identify patterns or trends in the data.\n",
        "\n",
        "Box plots are also useful for comparing the distributions of two or more datasets, as they allow you to see differences or similarities in the spread and central tendency of the data.Box plots, also known as box-and-whisker plots, are a type of data visualization used to display the distribution of a dataset and provide a summary of its key statistical properties."
      ],
      "metadata": {
        "id": "5aaW0BYyYklI"
      }
    },
    {
      "cell_type": "markdown",
      "source": [
        "##### 2. What is/are the insight(s) found from the chart?"
      ],
      "metadata": {
        "id": "ijmpgYnKYklI"
      }
    },
    {
      "cell_type": "markdown",
      "source": [
        "From above distribution charts we can see that, all columns are symmetric distributed and mean is nearly same with median for numerical columns. Here Area code will be treated as categorical value as there are only 3 values in the particular column."
      ],
      "metadata": {
        "id": "PSx9atu2YklI"
      }
    },
    {
      "cell_type": "markdown",
      "source": [
        "##### 3. Will the gained insights help creating a positive business impact?\n",
        "Are there any insights that lead to negative growth? Justify with specific reason."
      ],
      "metadata": {
        "id": "-JiQyfWJYklI"
      }
    },
    {
      "cell_type": "markdown",
      "source": [
        "Histogram and Box plot cannot give us whole information regarding data. It's done just to see the distribution of the column data over the dataset."
      ],
      "metadata": {
        "id": "BcBbebzrYklV"
      }
    },
    {
      "cell_type": "markdown",
      "source": [
        "#### Chart - 3"
      ],
      "metadata": {
        "id": "EM7whBJCYoAo"
      }
    },
    {
      "cell_type": "code",
      "source": [
        "# Chart - 3 visualization code\n",
        "# Vizualizing top 10 churned state\n",
        "plt.figure(figsize=(10,5))\n",
        "bar1 = ((telecom_df.groupby(['State'])['Churn'].mean()*100).sort_values(ascending = False).reset_index(name=\"Average True Churn \").head(10))\n",
        "plots = sns.barplot(data = bar1, x = 'State', y=\"Average True Churn \")\n",
        "for bar in plots.patches:\n",
        "  plots.annotate(format(bar.get_height(),'.2f'),\n",
        "                   (bar.get_x() + bar.get_width() / 2,\n",
        "                    bar.get_height()), ha='center', va='center',\n",
        "                   size=12, xytext=(0, 8),\n",
        "                   textcoords='offset points')\n",
        "\n",
        "plt.title(\" State with most churn percentage\", fontsize = 20)\n",
        "plt.xlabel('State', fontsize = 15)\n",
        "plt.ylabel('Percentage (%)', fontsize = 15)\n",
        "# Setting limit of the y axis from 0 to 30\n",
        "plt.ylim(0,30)\n",
        "plt.show()"
      ],
      "metadata": {
        "id": "t6GMdE67YoAp"
      },
      "execution_count": null,
      "outputs": []
    },
    {
      "cell_type": "code",
      "source": [
        "# Vizualizing bottom 10 churned state\n",
        "plt.figure(figsize=(10,5))\n",
        "bar1 = ((telecom_df.groupby(['State'])['Churn'].mean()*100).sort_values(ascending = True).reset_index(name=\"Average True Churn \").head(10))\n",
        "plots = sns.barplot(data = bar1, x = 'State', y=\"Average True Churn \")\n",
        "for bar in plots.patches:\n",
        "  plots.annotate(format(bar.get_height(),'.2f'),\n",
        "                   (bar.get_x() + bar.get_width() / 2,\n",
        "                    bar.get_height()), ha='center', va='center',\n",
        "                   size=12, xytext=(0, 8),\n",
        "                   textcoords='offset points')\n",
        "plt.title(\" State with least churn percentage\", fontsize = 20)\n",
        "plt.xlabel('State', fontsize = 15)\n",
        "plt.ylabel('Percentage (%)', fontsize = 15)\n",
        "# Setting limit of y axis from 0 to 10\n",
        "plt.ylim(0,10)\n",
        "plt.show()"
      ],
      "metadata": {
        "id": "fwwsF1WES-rS"
      },
      "execution_count": null,
      "outputs": []
    },
    {
      "cell_type": "markdown",
      "source": [
        "##### 1. Why did you pick the specific chart?"
      ],
      "metadata": {
        "id": "fge-S5ZAYoAp"
      }
    },
    {
      "cell_type": "markdown",
      "source": [
        "Bar charts are used to compare the size or frequency of different categories or groups of data. Bar charts are useful for comparing data across different categories, and they can be used to display a large amount of data in a small space.\n",
        "\n",
        "To show the average percentage of true churn with respect to states, we have used Bar Chart."
      ],
      "metadata": {
        "id": "5dBItgRVYoAp"
      }
    },
    {
      "cell_type": "markdown",
      "source": [
        "##### 2. What is/are the insight(s) found from the chart?"
      ],
      "metadata": {
        "id": "85gYPyotYoAp"
      }
    },
    {
      "cell_type": "markdown",
      "source": [
        "There are 51 states having different churn rates .\n",
        "\n",
        "CA, NJ ,TX , MD ,SC ,MI, MS, NV, WA, ME are the ones who have higher churn rate more than 20% which is more than 50% of average churn rate.\n",
        "\n",
        "And HI, AK, AZ, VA, IA, LA, NE, IL, WI, RI are the ones who have lower churn rate which is less than 10%."
      ],
      "metadata": {
        "id": "4jstXR6OYoAp"
      }
    },
    {
      "cell_type": "markdown",
      "source": [
        "##### 3. Will the gained insights help creating a positive business impact?\n",
        "Are there any insights that lead to negative growth? Justify with specific reason."
      ],
      "metadata": {
        "id": "RoGjAbkUYoAp"
      }
    },
    {
      "cell_type": "markdown",
      "source": [
        "Yes, the data of state wise churning depicts that there are lot of states who are having average churn rate more than 20 % which needs to be studied and look for further analysis to decide which factor are causing the churn."
      ],
      "metadata": {
        "id": "zfJ8IqMcYoAp"
      }
    },
    {
      "cell_type": "markdown",
      "source": [
        "#### Chart - 4"
      ],
      "metadata": {
        "id": "4Of9eVA-YrdM"
      }
    },
    {
      "cell_type": "code",
      "source": [
        "# Chart - 4 visualization code\n",
        "# Chart - 4  One Digit Account Length\n",
        "one_length = telecom_df[telecom_df['Account length']<=9].loc[:,['Churn']].value_counts()\n",
        "print(one_length)\n",
        "print(\" \")\n",
        "\n",
        "# Visualizing One Digit Account Length Based on Churn percentage\n",
        "#color palette selection\n",
        "colors = sns.color_palette('pastel')[0:7]\n",
        "textprops = {'fontsize':13}\n",
        "\n",
        "plt.figure(figsize=(15,7))\n",
        "# plotting pie chart\n",
        "plt.pie(one_length, labels=['Not Churn(%)','Churn(%)'], startangle=90, colors=colors, autopct=\"%1.1f%%\",textprops = textprops)\n",
        "plt.title('One Digit Account Length churn rate', fontsize=18)\n",
        "plt.show()"
      ],
      "metadata": {
        "id": "irlUoxc8YrdO"
      },
      "execution_count": null,
      "outputs": []
    },
    {
      "cell_type": "markdown",
      "source": [
        "##### 1. Why did you pick the specific chart?"
      ],
      "metadata": {
        "id": "iky9q4vBYrdO"
      }
    },
    {
      "cell_type": "markdown",
      "source": [
        "Answer Here."
      ],
      "metadata": {
        "id": "aJRCwT6DYrdO"
      }
    },
    {
      "cell_type": "code",
      "source": [
        "# Two Digit Account Length\n",
        "two_account=telecom_df[(telecom_df['Account length']<=99) & (telecom_df['Account length']>=10)].loc[:,['Churn']].value_counts()\n",
        "print(two_account)\n",
        "print(\" \")\n",
        "\n",
        "# Visualizing Two Digit Account Length Based on Churn percentage\n",
        "#color palette selection\n",
        "colors = sns.color_palette('pastel')[0:7]\n",
        "textprops = {'fontsize':13}\n",
        "\n",
        "plt.figure(figsize=(15,7))\n",
        "# plotting pie chart\n",
        "plt.pie(two_account, labels=['Not Churn(%)','Churn(%)'], startangle=90, colors=colors, autopct=\"%1.1f%%\", textprops = textprops)\n",
        "plt.title('Two Digit Account Length churn rate', fontsize=18)\n",
        "plt.show()"
      ],
      "metadata": {
        "id": "4nxKXLuETSX4"
      },
      "execution_count": null,
      "outputs": []
    },
    {
      "cell_type": "code",
      "source": [
        "# Three Digit Account Length\n",
        "three_account=telecom_df[(telecom_df['Account length']<=telecom_df['Account length'].max()) & (telecom_df['Account length']>=100)].loc[:,['Churn']].value_counts()\n",
        "print(three_account)\n",
        "print(\" \")\n",
        "\n",
        "# Visualizing Three Digit Account Length Based on Churn percentage\n",
        "#color palette selection\n",
        "colors = sns.color_palette('pastel')[0:7]\n",
        "textprops = {'fontsize':13}\n",
        "\n",
        "plt.figure(figsize=(15,7))\n",
        "# plotting data on chart using seaborn\n",
        "plt.pie(three_account, labels=['Not Churn(%)','Churn(%)'],startangle=90 , colors=colors, autopct=\"%1.1f%%\",textprops = textprops)\n",
        "plt.title('Three Digit Account Length churn rate', fontsize=18)\n",
        "plt.show()"
      ],
      "metadata": {
        "id": "Ike7bzojTaxK"
      },
      "execution_count": null,
      "outputs": []
    },
    {
      "cell_type": "code",
      "source": [
        "# Box Plot for Account Length attribute\n",
        "plt.figure(figsize=(10,8))\n",
        "sns.boxplot(data=telecom_df, x='Churn', y='Account length', showmeans = True)\n",
        "plt.title('Account Length Boxplot with Churn', fontsize=18)\n",
        "plt.show()"
      ],
      "metadata": {
        "id": "m_CbuVCmTi3J"
      },
      "execution_count": null,
      "outputs": []
    },
    {
      "cell_type": "markdown",
      "source": [
        "1.Why did you pick the specific chart?"
      ],
      "metadata": {
        "id": "8SB_aUjSU8sj"
      }
    },
    {
      "cell_type": "markdown",
      "source": [
        "Pie charts are generally used to show the proportions of a whole, and are especially useful for displaying data that has already been calculated as a percentage of the whole.\n",
        "\n",
        "So, I used Pie chart and which helped me to get the percentage comparision of the churn percentage account length wise.\n",
        "\n",
        "A boxplot is used to summarize the key statistical characteristics of a dataset, including the median, quartiles, and range, in a single plot. Boxplots are useful for identifying the presence of outliers in a dataset, comparing the distribution of multiple datasets, and understanding the dispersion of the data. They are often used in statistical analysis and data visualization.\n",
        "\n",
        "So, I used box plot to get the maximum and minimum value with well sagreggated outliers with well defined mean and median as shown in the box plot graph."
      ],
      "metadata": {
        "id": "EkSsiaIVVBhB"
      }
    },
    {
      "cell_type": "markdown",
      "source": [
        "##### 2. What is/are the insight(s) found from the chart?"
      ],
      "metadata": {
        "id": "F6T5p64dYrdO"
      }
    },
    {
      "cell_type": "markdown",
      "source": [
        "As from the above record, we can see that Two digit Account Length customers are churning with a number of 225 and Three digit Account Length customers are churning with a number of 256.\n",
        "\n",
        "So, their churning rate is high."
      ],
      "metadata": {
        "id": "8NLecdVSVXHJ"
      }
    },
    {
      "cell_type": "markdown",
      "source": [
        "##### 3. Will the gained insights help creating a positive business impact?\n",
        "Are there any insights that lead to negative growth? Justify with specific reason."
      ],
      "metadata": {
        "id": "y-Ehk30pYrdP"
      }
    },
    {
      "cell_type": "markdown",
      "source": [
        "Account length is the no. of days the customers are active. So for the new customers those churning rate is too low around 8.3% in percentage and number is 2. They might be just using the telecom service to experience the benefits and they might not be satisfied with the service provided and churned.\n",
        "\n",
        "Those people whose account length are between 10 to 99 are having a churning rate of 14%. The customers below 50 might be treated as new customers and more than 55 and less than 99 they might not be geting benefits from plan taken.\n",
        "\n",
        "Those people whose account length is more than 100 are like old customers and they might be churning due to no additional offers given to them like power plus plan or other benefits.\n",
        "\n",
        "So, yes Account Length is also depicting a clear view of churing reasons and insights."
      ],
      "metadata": {
        "id": "jLNxxz7MYrdP"
      }
    },
    {
      "cell_type": "markdown",
      "source": [
        "#### Chart - 5"
      ],
      "metadata": {
        "id": "bamQiAODYuh1"
      }
    },
    {
      "cell_type": "code",
      "source": [
        "# Chart - 5 visualization code\n",
        "# data for international plan\n",
        "inter_plan = telecom_df['International plan'].value_counts()\n",
        "print(inter_plan)\n",
        "print(\" \")\n",
        "\n",
        "# Visualizing Percentage of customers taken international plan\n",
        "#color palette selection\n",
        "colors = sns.color_palette('husl')[0:7]\n",
        "textprops = {'fontsize':13}\n",
        "\n",
        "plt.figure(figsize=(15,7))\n",
        "# plotting pie chart\n",
        "plt.pie(inter_plan, labels=['No','Yes'],startangle=90 , colors=colors, autopct=\"%1.1f%%\", textprops = textprops)\n",
        "plt.title('International Plan', fontsize=18)\n",
        "plt.show()"
      ],
      "metadata": {
        "id": "TIJwrbroYuh3"
      },
      "execution_count": null,
      "outputs": []
    },
    {
      "cell_type": "code",
      "source": [
        "# Assigning values for furthur charts\n",
        "i1 = telecom_df['International plan'].unique()\n",
        "i2 = telecom_df.groupby('International plan')['Churn'].mean()*100\n",
        "i3 = telecom_df.groupby(['International plan'])['Total intl charge'].mean()\n",
        "i4 = telecom_df.groupby([\"Churn\"])['Total intl minutes'].mean()"
      ],
      "metadata": {
        "id": "42YG42Ojj1dF"
      },
      "execution_count": null,
      "outputs": []
    },
    {
      "cell_type": "code",
      "source": [
        "# Visualizing code for people churning percentage having international plan\n",
        "plt.figure(figsize=(6,7))\n",
        "plots = sns.barplot(x=i1,y=i2)\n",
        "for bar in plots.patches:\n",
        "  plots.annotate(format(bar.get_height(),'.2f'),\n",
        "                   (bar.get_x() + bar.get_width() / 2,\n",
        "                    bar.get_height()), ha='center', va='center',\n",
        "                   size=12, xytext=(0, 8),\n",
        "                   textcoords='offset points')\n",
        "\n",
        "plt.title(\" Percentage of customer churn on basis of International plan\", fontsize = 20)\n",
        "plt.xlabel('International plan', fontsize = 15)\n",
        "plt.ylabel('Percentage (%)', fontsize = 15)\n",
        "plt.ylim(0,45)\n",
        "plt.show()"
      ],
      "metadata": {
        "id": "kdVo77Tmj7ou"
      },
      "execution_count": null,
      "outputs": []
    },
    {
      "cell_type": "code",
      "source": [
        "# Visualizing code for average calling charge of customers having international plan\n",
        "plt.figure(figsize=(6,7))\n",
        "plots = sns.barplot(x=i1,y=i3)\n",
        "for bar in plots.patches:\n",
        "  plots.annotate(format(bar.get_height(),'.2f'),\n",
        "                   (bar.get_x() + bar.get_width() / 2,\n",
        "                    bar.get_height()), ha='center', va='center',\n",
        "                   size=12, xytext=(0, 8),\n",
        "                   textcoords='offset points')\n",
        "plt.title(\" Average charges on the basis of International plan\", fontsize = 20)\n",
        "plt.xlabel('International plan', fontsize = 15)\n",
        "plt.ylabel('Charges', fontsize = 15)\n",
        "plt.ylim(0,3.5)\n",
        "plt.show()"
      ],
      "metadata": {
        "id": "OFrlKuJmkAEO"
      },
      "execution_count": null,
      "outputs": []
    },
    {
      "cell_type": "code",
      "source": [
        "# Visualizing code for average minutes talked by customers having international plan\n",
        "plt.figure(figsize=(6,7))\n",
        "plots = sns.barplot(x=i1,y=i4)\n",
        "for bar in plots.patches:\n",
        "  plots.annotate(format(bar.get_height(),'.2f'),\n",
        "                   (bar.get_x() + bar.get_width() / 2,\n",
        "                    bar.get_height()), ha='center', va='center',\n",
        "                   size=12, xytext=(0, 8),\n",
        "                   textcoords='offset points')\n",
        "plt.title(\" Average International minutes on basis of international plan\", fontsize = 20)\n",
        "plt.xlabel('International Plan', fontsize = 15)\n",
        "plt.ylabel('Minutes', fontsize = 15)\n",
        "plt.ylim(0,12)\n",
        "plt.show()"
      ],
      "metadata": {
        "id": "uQDLwid6kE1y"
      },
      "execution_count": null,
      "outputs": []
    },
    {
      "cell_type": "markdown",
      "source": [
        "##### 1. Why did you pick the specific chart?"
      ],
      "metadata": {
        "id": "QHF8YVU7Yuh3"
      }
    },
    {
      "cell_type": "markdown",
      "source": [
        "Pie charts are generally used to show the proportions of a whole, and are especially useful for displaying data that has already been calculated as a percentage of the whole.\n",
        "\n",
        "Thus, we used to show the percentage of people taken international plan through pie chart with different colored area under a circle.\n",
        "\n",
        "Bar charts are used to compare the size or frequency of different categories or groups of data. Bar charts are useful for comparing data across different categories, and they can be used to display a large amount of data in a small space.\n",
        "\n",
        "Thus, we used bar chart to show the percentage of customers churned having international plan and the average calling charge as well as conversation average minutes of customers those have international plan."
      ],
      "metadata": {
        "id": "dcxuIMRPYuh3"
      }
    },
    {
      "cell_type": "markdown",
      "source": [
        "##### 2. What is/are the insight(s) found from the chart?"
      ],
      "metadata": {
        "id": "GwzvFGzlYuh3"
      }
    },
    {
      "cell_type": "markdown",
      "source": [
        "INTERNATIONAL PLAN\n",
        "\n",
        "In this analysis, 3010 dont have an international plan, 323 have an international plan.\n",
        "\n",
        "Among those who have an international plan, 42.4 % people churn.\n",
        "\n",
        "Whereas among those who dont have an international plan, only 11.4 % people churn.\n",
        "\n",
        "Among those who have a international plan their average charge is 2.87 and they talk for 10.7 minutes on an average.\n",
        "\n",
        "Whereas among those who dont have a international plan their average charge is 2.75 and they talk for 10.16 minutes on an average.\n",
        "\n",
        "The reason why people having international plan might be leaving is that they are paying same amount of money for international calls as for those customers who dont have a international plan. Hence they arent getting any benefits for having an international plan so they might be unhappy."
      ],
      "metadata": {
        "id": "uyqkiB8YYuh3"
      }
    },
    {
      "cell_type": "markdown",
      "source": [
        "##### 3. Will the gained insights help creating a positive business impact?\n",
        "Are there any insights that lead to negative growth? Justify with specific reason."
      ],
      "metadata": {
        "id": "qYpmQ266Yuh3"
      }
    },
    {
      "cell_type": "markdown",
      "source": [
        "Yes, the insights found will definitely help for a positive business impact. Those people who have international plan they are paying some additional charges to get the plan but the talk time value charge is same as those customers having no international plan. That might be great reason for more churns for those having international plan."
      ],
      "metadata": {
        "id": "_WtzZ_hCYuh4"
      }
    },
    {
      "cell_type": "markdown",
      "source": [
        "#### Chart - 6"
      ],
      "metadata": {
        "id": "OH-pJp9IphqM"
      }
    },
    {
      "cell_type": "code",
      "source": [
        "# Chart - 6 visualization code\n",
        "# data for voice mail plan\n",
        "voice = telecom_df['Voice mail plan'].value_counts()\n",
        "\n",
        "# vizualizing code for customers percentage having voice mail plan\n",
        "\n",
        "#color palette selection\n",
        "palette_color = sns.color_palette('pastel')\n",
        "textprops = {'fontsize':13}\n",
        "\n",
        "# plotting chart of voice mail\n",
        "plt.figure(figsize=(9,7))\n",
        "plt.pie(voice, labels=['No','Yes'],startangle=90 , colors=palette_color, autopct=\"%1.1f%%\",textprops = textprops)\n",
        "plt.title('Distribution of customers having voice mail plan', fontsize=18)\n",
        "plt.show()"
      ],
      "metadata": {
        "id": "kuRf4wtuphqN"
      },
      "execution_count": null,
      "outputs": []
    },
    {
      "cell_type": "code",
      "source": [
        "# Vizualizing code for customers churning while having voice mail plan\n",
        "\n",
        "cc1=list(['no','yes'])\n",
        "cc2=telecom_df.groupby('Voice mail plan')['Churn'].mean()*100\n",
        "\n",
        "plt.figure(figsize=(6,8))\n",
        "plots = sns.barplot(x=cc1,y=cc2)\n",
        "for bar in plots.patches:\n",
        "  plots.annotate(format(bar.get_height(),'.2f'),\n",
        "                   (bar.get_x() + bar.get_width() / 2,\n",
        "                    bar.get_height()), ha='center', va='center',\n",
        "                   size=12, xytext=(0, 8),\n",
        "                   textcoords='offset points')\n",
        "\n",
        "plt.title(\" Percentage of customer churn on basis of voice mail plan\", fontsize = 20)\n",
        "plt.xlabel('Voice mail plan', fontsize = 15)\n",
        "plt.ylabel('Percentage (%)', fontsize = 15)\n",
        "plt.show()"
      ],
      "metadata": {
        "id": "tGcX8svKkbm3"
      },
      "execution_count": null,
      "outputs": []
    },
    {
      "cell_type": "markdown",
      "source": [
        "##### 1. Why did you pick the specific chart?"
      ],
      "metadata": {
        "id": "bbFf2-_FphqN"
      }
    },
    {
      "cell_type": "markdown",
      "source": [
        "Pie charts are generally used to show the proportions of a whole, and are especially useful for displaying data that has already been calculated as a percentage of the whole.\n",
        "\n",
        "Thus, we have used pie chart to show the percentage of customers having voice mail plan.\n",
        "\n",
        "Bar charts are used to compare the size or frequency of different categories or groups of data. Bar charts are useful for comparing data across different categories, and they can be used to display a large amount of data in a small space.\n",
        "\n",
        "Thus, we have used bar chart to show the percentage of customers churned having voice mail plan.\n",
        "\n"
      ],
      "metadata": {
        "id": "loh7H2nzphqN"
      }
    },
    {
      "cell_type": "markdown",
      "source": [
        "##### 2. What is/are the insight(s) found from the chart?"
      ],
      "metadata": {
        "id": "_ouA3fa0phqN"
      }
    },
    {
      "cell_type": "markdown",
      "source": [
        "VOICE MAIL\n",
        "\n",
        "2411 dont have a voice mail plan\n",
        "\n",
        "922 have a voice mail plan\n",
        "\n",
        "Among those who dont have a voice mail 16.7 % people churn.\n",
        "\n",
        "Whereas among those who have a voice mail plan only 8.7 % people churn.\n",
        "\n",
        "Customers with the Voice Mail Plan tend to churn less frequently"
      ],
      "metadata": {
        "id": "VECbqPI7phqN"
      }
    },
    {
      "cell_type": "markdown",
      "source": [
        "##### 3. Will the gained insights help creating a positive business impact?\n",
        "Are there any insights that lead to negative growth? Justify with specific reason."
      ],
      "metadata": {
        "id": "Seke61FWphqN"
      }
    },
    {
      "cell_type": "markdown",
      "source": [
        "Yes, voice mail plan might be considered partially."
      ],
      "metadata": {
        "id": "DW4_bGpfphqN"
      }
    },
    {
      "cell_type": "markdown",
      "source": [
        "#### Chart - 7: Area Code"
      ],
      "metadata": {
        "id": "PIIx-8_IphqN"
      }
    },
    {
      "cell_type": "code",
      "source": [
        "# Chart - 7 visualization code\n",
        "# Chart - 7 visualization code\n",
        "# Visualizing code for Area Code wise average churn percentage\n",
        "a1= telecom_df['Area code'].unique()\n",
        "b1= telecom_df.groupby('Area code')['Churn'].mean()*100\n",
        "\n",
        "plt.figure(figsize=(6,5))\n",
        "plots = sns.barplot(x=a1, y=b1)\n",
        "for bar in plots.patches:\n",
        "  plots.annotate(format(bar.get_height(),'.2f'),\n",
        "                   (bar.get_x() + bar.get_width() / 2,\n",
        "                    bar.get_height()), ha='center', va='center',\n",
        "                   size=12, xytext=(0, 8),\n",
        "                   textcoords='offset points')\n",
        "plt.title('Area Code vs Churn Percantage',fontsize=20)\n",
        "plt.xlabel('Area code', fontsize = 15)\n",
        "plt.ylabel('Churn percentage (%)', fontsize = 15)\n",
        "plt.ylim(0,17)\n",
        "plt.show()"
      ],
      "metadata": {
        "id": "lqAIGUfyphqO"
      },
      "execution_count": null,
      "outputs": []
    },
    {
      "cell_type": "markdown",
      "source": [
        "##### 1. Why did you pick the specific chart?"
      ],
      "metadata": {
        "id": "t27r6nlMphqO"
      }
    },
    {
      "cell_type": "markdown",
      "source": [
        "Bar charts are used to compare the size or frequency of different categories or groups of data. Bar charts are useful for comparing data across different categories, and they can be used to display a large amount of data in a small space.\n",
        "\n",
        "To show the average percentage of true churn with respect to Area Code, we have used Bar Chart."
      ],
      "metadata": {
        "id": "iv6ro40sphqO"
      }
    },
    {
      "cell_type": "markdown",
      "source": [
        "##### 2. What is/are the insight(s) found from the chart?"
      ],
      "metadata": {
        "id": "r2jJGEOYphqO"
      }
    },
    {
      "cell_type": "markdown",
      "source": [
        "All Area Code have around 14% Churn rate. So, Area Code doesn't matter."
      ],
      "metadata": {
        "id": "Po6ZPi4hphqO"
      }
    },
    {
      "cell_type": "markdown",
      "source": [
        "##### 3. Will the gained insights help creating a positive business impact?\n",
        "Are there any insights that lead to negative growth? Justify with specific reason."
      ],
      "metadata": {
        "id": "b0JNsNcRphqO"
      }
    },
    {
      "cell_type": "markdown",
      "source": [
        "No, Area Code doesn't have any contribution to churn rate for 14% churn rate is same for all the area codes. But while furthur sagreggating the area codes with respective states in those area code, it can be analysed the states in which the issue is happeing. So, it has been defined above.\n",
        "\n",
        "So, here Area code won't help to create business impact but the respective states wise analysis can help."
      ],
      "metadata": {
        "id": "xvSq8iUTphqO"
      }
    },
    {
      "cell_type": "markdown",
      "source": [
        "#### Chart - 8: Overall Calls"
      ],
      "metadata": {
        "id": "BZR9WyysphqO"
      }
    },
    {
      "cell_type": "code",
      "source": [
        "# Chart - 8 visualization code\n",
        "# Average of total day calls, total day minutes & total day charge of churn\n",
        "cn_dcalls = pd.DataFrame(telecom_df.groupby([\"Churn\"])['Total day calls'].mean())\n",
        "print(cn_dcalls)\n",
        "print('')\n",
        "cn_dm = pd.DataFrame(telecom_df.groupby([\"Churn\"])['Total day minutes'].mean())\n",
        "print(cn_dm)\n",
        "print('')\n",
        "cn_dc = pd.DataFrame(telecom_df.groupby([\"Churn\"])['Total day charge'].mean())\n",
        "print(cn_dc)"
      ],
      "metadata": {
        "id": "TdPTWpAVphqO"
      },
      "execution_count": null,
      "outputs": []
    },
    {
      "cell_type": "code",
      "source": [
        "# Vizualizing Total day minutes vs total day charge\n",
        "plt.figure(figsize=(7,8))\n",
        "sns.scatterplot(data=telecom_df, x=\"Total day minutes\", y=\"Total day charge\", hue=\"Churn\")\n",
        "plt.title('Total Day Minutes, vs Total Day Charge', fontsize=18)\n",
        "plt.xlabel('Total day minutes',fontsize = 13)\n",
        "plt.ylabel('Total day charges',fontsize = 13)\n",
        "plt.show()"
      ],
      "metadata": {
        "id": "VY41FKhvmCA2"
      },
      "execution_count": null,
      "outputs": []
    },
    {
      "cell_type": "code",
      "source": [
        "# Average of total eve calls, total eve minutes & total evening charge of churn\n",
        "cn_ecalls = pd.DataFrame(telecom_df.groupby([\"Churn\"])['Total eve calls'].mean())\n",
        "print(cn_ecalls)\n",
        "print(\" \")\n",
        "cn_em = pd.DataFrame(telecom_df.groupby([\"Churn\"])['Total eve minutes'].mean())\n",
        "print(cn_em)\n",
        "print(\" \")\n",
        "cn_ec = pd.DataFrame(telecom_df.groupby([\"Churn\"])['Total eve charge'].mean())\n",
        "print(cn_ec)"
      ],
      "metadata": {
        "id": "wYY9_GLGldtm"
      },
      "execution_count": null,
      "outputs": []
    },
    {
      "cell_type": "code",
      "source": [
        "# Vizualizing total evening minutes vs total evening charge\n",
        "plt.figure(figsize=(7,8))\n",
        "sns.scatterplot(x=\"Total eve minutes\", y=\"Total eve charge\", hue=\"Churn\", data=telecom_df)\n",
        "plt.title('Total evening minutes vs Total evening charge', fontsize=18)\n",
        "plt.xlabel('Total eve minutes',fontsize = 13)\n",
        "plt.ylabel('Total eve charges',fontsize = 13)\n",
        "plt.show()"
      ],
      "metadata": {
        "id": "tPmzAn98ldzE"
      },
      "execution_count": null,
      "outputs": []
    },
    {
      "cell_type": "code",
      "source": [
        "# Average of total night calls, total night minutes & total night charge of churn\n",
        "cn_ncalls = pd.DataFrame(telecom_df.groupby([\"Churn\"])['Total night calls'].mean())\n",
        "print(cn_ncalls)\n",
        "print(\" \")\n",
        "cn_nm = pd.DataFrame(telecom_df.groupby([\"Churn\"])['Total night minutes'].mean())\n",
        "print(cn_nm)\n",
        "print(\" \")\n",
        "cn_nc = pd.DataFrame(telecom_df.groupby([\"Churn\"])['Total night charge'].mean())\n",
        "print(cn_nc)"
      ],
      "metadata": {
        "id": "6i0doXKTld9P"
      },
      "execution_count": null,
      "outputs": []
    },
    {
      "cell_type": "code",
      "source": [
        "# Vizualizing Total night minutes vs total night charge\n",
        "plt.figure(figsize=(7,8))\n",
        "sns.scatterplot(x=\"Total night minutes\", y=\"Total night charge\", hue=\"Churn\", data=telecom_df)\n",
        "plt.title('Total night minutes vs Total night charge', fontsize=18)\n",
        "plt.xlabel('Total night minutes',fontsize = 13)\n",
        "plt.ylabel('Total night charges',fontsize = 13)\n",
        "plt.show()"
      ],
      "metadata": {
        "id": "HJ4XN21-lgUJ"
      },
      "execution_count": null,
      "outputs": []
    },
    {
      "cell_type": "code",
      "source": [
        "# Table of average calls of total day, eve & night on basis of churn\n",
        "cn_calls = pd.merge(pd.merge(cn_dcalls,cn_ecalls, on = 'Churn'),cn_ncalls,on = 'Churn').round(2).T\n",
        "cn_calls"
      ],
      "metadata": {
        "id": "Htscoxjslp_2"
      },
      "execution_count": null,
      "outputs": []
    },
    {
      "cell_type": "code",
      "source": [
        "# Bar plot of above table\n",
        "plt.figure(figsize=(9,6))\n",
        "cn_calls.plot(kind='bar',ylabel='mean')\n",
        "plt.title('Average of calls on the basis of churn', fontsize=18)\n",
        "plt.xlabel(\"calls\", fontsize = 13)\n",
        "plt.ylabel('Average of Calls',fontsize = 13)\n",
        "plt.show()"
      ],
      "metadata": {
        "id": "S1qeJ1Bcl07R"
      },
      "execution_count": null,
      "outputs": []
    },
    {
      "cell_type": "code",
      "source": [
        "# Table of average minutes of total day, eve & night on basis of churn\n",
        "cn_minutes = pd.merge(pd.merge(cn_dm,cn_em, on = 'Churn'),cn_nm,on = 'Churn').round(2).T\n",
        "cn_minutes"
      ],
      "metadata": {
        "id": "M6ZXrAiRmcHg"
      },
      "execution_count": null,
      "outputs": []
    },
    {
      "cell_type": "code",
      "source": [
        "# Bar plot of above table\n",
        "plt.figure(figsize=(9,6))\n",
        "cn_minutes.plot(kind='bar',ylabel='mean')\n",
        "plt.title('Average of minutes on the basis of churn', fontsize=18)\n",
        "plt.xlabel(\"minutes\", fontsize = 13)\n",
        "plt.ylabel('Average of minutes',fontsize = 13)\n",
        "plt.show()"
      ],
      "metadata": {
        "id": "fjD4pMEFmf1a"
      },
      "execution_count": null,
      "outputs": []
    },
    {
      "cell_type": "code",
      "source": [
        "# Table of average charges of total day, eve & night on basis of churn\n",
        "cn_charges = pd.merge(pd.merge(cn_dc,cn_ec, on = 'Churn'),cn_nc,on = 'Churn').round(2).T\n",
        "cn_charges"
      ],
      "metadata": {
        "id": "Qa3c5zzymgJY"
      },
      "execution_count": null,
      "outputs": []
    },
    {
      "cell_type": "code",
      "source": [
        "# Bar plot of above table\n",
        "plt.figure(figsize=(9,7))\n",
        "cn_charges.plot(kind='bar',ylabel='mean')\n",
        "plt.title('Average of charges on the basis of churn', fontsize=18)\n",
        "plt.xlabel(\"Charges\", fontsize = 13)\n",
        "plt.ylabel('Average of charges',fontsize = 13)\n",
        "plt.show()"
      ],
      "metadata": {
        "id": "lgazvsPqmjc-"
      },
      "execution_count": null,
      "outputs": []
    },
    {
      "cell_type": "markdown",
      "source": [
        "##### 1. Why did you pick the specific chart?"
      ],
      "metadata": {
        "id": "jj7wYXLtphqO"
      }
    },
    {
      "cell_type": "markdown",
      "source": [
        "Scatter plots are used to plot the relationship between two numerical variables. Scatter plots are useful for identifying patterns and trends in data, and they can be used to visualize the relationship between two variables.\n",
        "\n",
        "Thus, we have used the scatter plot to depict the relationship between evening, day & night calls , minutes and charge.\n",
        "\n",
        "Bar charts are used to compare the size or frequency of different categories or groups of data. Bar charts are useful for comparing data across different categories, and they can be used to display a large amount of data in a small space.\n",
        "\n",
        "Thus, we have used the bar plot to show the evening, night and day manipulated data to depict meaningful insights."
      ],
      "metadata": {
        "id": "Ob8u6rCTphqO"
      }
    },
    {
      "cell_type": "markdown",
      "source": [
        "##### 2. What is/are the insight(s) found from the chart?"
      ],
      "metadata": {
        "id": "eZrbJ2SmphqO"
      }
    },
    {
      "cell_type": "markdown",
      "source": [
        "OVERALL CALLS\n",
        "\n",
        "Churn customers speak more minutes that non-churn customers at day,evening and night. Hence they pay more charge that non-churn customers.\n",
        "\n",
        "We can retain churn customers if we include master plan. In master plan if a customer is talking more minutes then we can charge a little less amount from him or he can get discount or additional few free minutes to talk.\n",
        "\n",
        "This will make customers who are going to churn happy and they will not leave the company."
      ],
      "metadata": {
        "id": "mZtgC_hjphqO"
      }
    },
    {
      "cell_type": "markdown",
      "source": [
        "##### 3. Will the gained insights help creating a positive business impact?\n",
        "Are there any insights that lead to negative growth? Justify with specific reason."
      ],
      "metadata": {
        "id": "rFu4xreNphqO"
      }
    },
    {
      "cell_type": "markdown",
      "source": [
        "For telecom service provider calling and messaging are two essential product plans. Thus, optimizing voice call plans will definitely create a business impact. Those who are using just calling service must be provided some additional offers either in talktime or powerplus plan. Those who use voice call plan for night only, we might offer some exciting plans from midnight 12 to morning 6. For customers those who have higher accout length should be provided exciting offers as they are our loyal customers. Churing of higher account length customer will have a negative impact on business.\n"
      ],
      "metadata": {
        "id": "ey_0qi68phqO"
      }
    },
    {
      "cell_type": "markdown",
      "source": [
        "#### Chart - 9: Customer Service Calls"
      ],
      "metadata": {
        "id": "YJ55k-q6phqO"
      }
    },
    {
      "cell_type": "code",
      "source": [
        "# Chart - 9 visualization code\n",
        "# Chart - 9 visualization code\n",
        "# data for customer service calls\n",
        "service = pd.DataFrame(telecom_df.groupby('Customer service calls')['Churn'].mean()*100)\n",
        "\n",
        "# Visualizing churn rate per customer service calls\n",
        "plt.figure(figsize=(12,9))\n",
        "plots = sns.barplot(x=service.index, y=service['Churn'])\n",
        "for bar in plots.patches:\n",
        "  plots.annotate(format(bar.get_height(),'.2f'),\n",
        "                   (bar.get_x() + bar.get_width() / 2,\n",
        "                    bar.get_height()), ha='center', va='center',\n",
        "                   size=12, xytext=(0, 8),\n",
        "                   textcoords='offset points')\n",
        "plt.title(\"Churn rate per service call\", fontsize = 20)\n",
        "plt.xlabel('No of cust service call', fontsize = 15)\n",
        "plt.ylabel('Percentage (%)', fontsize = 15)\n",
        "plt.show()"
      ],
      "metadata": {
        "id": "B2aS4O1ophqO"
      },
      "execution_count": null,
      "outputs": []
    },
    {
      "cell_type": "markdown",
      "source": [
        "##### 1. Why did you pick the specific chart?"
      ],
      "metadata": {
        "id": "gCFgpxoyphqP"
      }
    },
    {
      "cell_type": "markdown",
      "source": [
        "Bar charts are used to compare the size or frequency of different categories or groups of data. Bar charts are useful for comparing data across different categories, and they can be used to display a large amount of data in a small space.\n",
        "\n",
        "Thus, we have used the bar plot to show the relationship between churn rate per customer service calls."
      ],
      "metadata": {
        "id": "TVxDimi2phqP"
      }
    },
    {
      "cell_type": "markdown",
      "source": [
        "##### 2. What is/are the insight(s) found from the chart?"
      ],
      "metadata": {
        "id": "OVtJsKN_phqQ"
      }
    },
    {
      "cell_type": "markdown",
      "source": [
        "CUSTOMER SERVICE CALL\n",
        "\n",
        "The service calls of customers varies from 0 to 9 .\n",
        "\n",
        "Those customers who make more service calls they have a high probability of leaving.\n",
        "\n",
        "As we can see from graph , customers with more than 5, their churning rate is more.\n",
        "\n",
        "Hence customers who make more than 5 service calls, their queries should be solved immediately and they should be given better service so that they dont leave the company.\n",
        "\n",
        "Customers with four or more customer service calls churn more than four times as often as do the other customers"
      ],
      "metadata": {
        "id": "ngGi97qjphqQ"
      }
    },
    {
      "cell_type": "markdown",
      "source": [
        "##### 3. Will the gained insights help creating a positive business impact?\n",
        "Are there any insights that lead to negative growth? Justify with specific reason."
      ],
      "metadata": {
        "id": "lssrdh5qphqQ"
      }
    },
    {
      "cell_type": "markdown",
      "source": [
        "Customer service is an essential factor for every business. So definitely good customer service will have a positive impact to the business. We have to look after the customer calls and customer query report resolution duration. Need to optimize the time period. If one type of issue is coming from more than 5 customers, root cause analysis should be done on that same issue and should be resolved for everyone. Need to reduce the calls for each customer and he should be satisfied in a single call only. The customer service agents should be given great offer or recognition over great performance of customer issue resolution."
      ],
      "metadata": {
        "id": "tBpY5ekJphqQ"
      }
    },
    {
      "cell_type": "markdown",
      "source": [
        "#### Chart - 10: Correlation Heatmap"
      ],
      "metadata": {
        "id": "U2RJ9gkRphqQ"
      }
    },
    {
      "cell_type": "code",
      "source": [
        "# Chart - 10 visualization code\n",
        "# Correlation Heatmap visualization code\n",
        "# Correlation Heatmap visualization code\n",
        "corr = telecom_df.corr()\n",
        "mask = np.zeros_like(corr)\n",
        "\n",
        "mask[np.triu_indices_from(mask)] = False\n",
        "\n",
        "with sns.axes_style(\"white\"):\n",
        "    f, ax = plt.subplots(figsize=(18, 12))\n",
        "    ax = sns.heatmap(corr , mask=mask, vmin = -1,vmax=1, annot = True, cmap=\"YlGnBu\")"
      ],
      "metadata": {
        "id": "GM7a4YP4phqQ"
      },
      "execution_count": null,
      "outputs": []
    },
    {
      "cell_type": "markdown",
      "source": [
        "##### 1. Why did you pick the specific chart?"
      ],
      "metadata": {
        "id": "1M8mcRywphqQ"
      }
    },
    {
      "cell_type": "markdown",
      "source": [
        "The correlation coefficient is a measure of the strength and direction of a linear relationship between two variables. A correlation matrix is used to summarize the relationships among a set of variables and is an important tool for data exploration and for selecting which variables to include in a model. The range of correlation is [-1,1].\n",
        "\n",
        "Thus to know the correlation between all the variables along with the correlation coeficients, we have used correlation heatmap."
      ],
      "metadata": {
        "id": "8agQvks0phqQ"
      }
    },
    {
      "cell_type": "markdown",
      "source": [
        "##### 2. What is/are the insight(s) found from the chart?"
      ],
      "metadata": {
        "id": "tgIPom80phqQ"
      }
    },
    {
      "cell_type": "markdown",
      "source": [
        "From the above correlation heatmap, we can see total day charge & total day minute, total evening charge & total evening minute, total night charge & total night minute are positiveliy highly correlated with a value of 1.\n",
        "\n",
        "Customer service call is positively correlated only with area code and negative correlated with rest variables.\n",
        "\n",
        "Rest all correlation can be depicted from the above chart."
      ],
      "metadata": {
        "id": "Qp13pnNzphqQ"
      }
    },
    {
      "cell_type": "markdown",
      "source": [
        "##### 3. Will the gained insights help creating a positive business impact?\n",
        "Are there any insights that lead to negative growth? Justify with specific reason."
      ],
      "metadata": {
        "id": "JMzcOPDDphqR"
      }
    },
    {
      "cell_type": "markdown",
      "source": [
        "Answer Here"
      ],
      "metadata": {
        "id": "R4Ka1PC2phqR"
      }
    },
    {
      "cell_type": "markdown",
      "source": [
        "#### Chart - 11"
      ],
      "metadata": {
        "id": "x-EpHcCOp1ci"
      }
    },
    {
      "cell_type": "code",
      "source": [
        "# Chart - 11 visualization code"
      ],
      "metadata": {
        "id": "mAQTIvtqp1cj"
      },
      "execution_count": null,
      "outputs": []
    },
    {
      "cell_type": "markdown",
      "source": [
        "##### 1. Why did you pick the specific chart?"
      ],
      "metadata": {
        "id": "X_VqEhTip1ck"
      }
    },
    {
      "cell_type": "markdown",
      "source": [
        "Answer Here."
      ],
      "metadata": {
        "id": "-vsMzt_np1ck"
      }
    },
    {
      "cell_type": "markdown",
      "source": [
        "##### 2. What is/are the insight(s) found from the chart?"
      ],
      "metadata": {
        "id": "8zGJKyg5p1ck"
      }
    },
    {
      "cell_type": "markdown",
      "source": [
        "Answer Here"
      ],
      "metadata": {
        "id": "ZYdMsrqVp1ck"
      }
    },
    {
      "cell_type": "markdown",
      "source": [
        "##### 3. Will the gained insights help creating a positive business impact?\n",
        "Are there any insights that lead to negative growth? Justify with specific reason."
      ],
      "metadata": {
        "id": "PVzmfK_Ep1ck"
      }
    },
    {
      "cell_type": "markdown",
      "source": [
        "Answer Here"
      ],
      "metadata": {
        "id": "druuKYZpp1ck"
      }
    },
    {
      "cell_type": "markdown",
      "source": [
        "#### Chart - 12"
      ],
      "metadata": {
        "id": "n3dbpmDWp1ck"
      }
    },
    {
      "cell_type": "code",
      "source": [
        "# Chart - 12 visualization code"
      ],
      "metadata": {
        "id": "bwevp1tKp1ck"
      },
      "execution_count": null,
      "outputs": []
    },
    {
      "cell_type": "markdown",
      "source": [
        "##### 1. Why did you pick the specific chart?"
      ],
      "metadata": {
        "id": "ylSl6qgtp1ck"
      }
    },
    {
      "cell_type": "markdown",
      "source": [
        "Answer Here."
      ],
      "metadata": {
        "id": "m2xqNkiQp1ck"
      }
    },
    {
      "cell_type": "markdown",
      "source": [
        "##### 2. What is/are the insight(s) found from the chart?"
      ],
      "metadata": {
        "id": "ZWILFDl5p1ck"
      }
    },
    {
      "cell_type": "markdown",
      "source": [
        "Answer Here"
      ],
      "metadata": {
        "id": "x-lUsV2mp1ck"
      }
    },
    {
      "cell_type": "markdown",
      "source": [
        "##### 3. Will the gained insights help creating a positive business impact?\n",
        "Are there any insights that lead to negative growth? Justify with specific reason."
      ],
      "metadata": {
        "id": "M7G43BXep1ck"
      }
    },
    {
      "cell_type": "markdown",
      "source": [
        "Answer Here"
      ],
      "metadata": {
        "id": "5wwDJXsLp1cl"
      }
    },
    {
      "cell_type": "markdown",
      "source": [
        "#### Chart - 13"
      ],
      "metadata": {
        "id": "Ag9LCva-p1cl"
      }
    },
    {
      "cell_type": "code",
      "source": [
        "# Chart - 13 visualization code"
      ],
      "metadata": {
        "id": "EUfxeq9-p1cl"
      },
      "execution_count": null,
      "outputs": []
    },
    {
      "cell_type": "markdown",
      "source": [
        "##### 1. Why did you pick the specific chart?"
      ],
      "metadata": {
        "id": "E6MkPsBcp1cl"
      }
    },
    {
      "cell_type": "markdown",
      "source": [
        "Answer Here."
      ],
      "metadata": {
        "id": "V22bRsFWp1cl"
      }
    },
    {
      "cell_type": "markdown",
      "source": [
        "##### 2. What is/are the insight(s) found from the chart?"
      ],
      "metadata": {
        "id": "2cELzS2fp1cl"
      }
    },
    {
      "cell_type": "markdown",
      "source": [
        "Answer Here"
      ],
      "metadata": {
        "id": "ozQPc2_Ip1cl"
      }
    },
    {
      "cell_type": "markdown",
      "source": [
        "##### 3. Will the gained insights help creating a positive business impact?\n",
        "Are there any insights that lead to negative growth? Justify with specific reason."
      ],
      "metadata": {
        "id": "3MPXvC8up1cl"
      }
    },
    {
      "cell_type": "markdown",
      "source": [
        "Answer Here"
      ],
      "metadata": {
        "id": "GL8l1tdLp1cl"
      }
    },
    {
      "cell_type": "markdown",
      "source": [
        "#### Chart - 14 - Correlation Heatmap"
      ],
      "metadata": {
        "id": "NC_X3p0fY2L0"
      }
    },
    {
      "cell_type": "code",
      "source": [
        "# Correlation Heatmap visualization code"
      ],
      "metadata": {
        "id": "xyC9zolEZNRQ"
      },
      "execution_count": null,
      "outputs": []
    },
    {
      "cell_type": "markdown",
      "source": [
        "##### 1. Why did you pick the specific chart?"
      ],
      "metadata": {
        "id": "UV0SzAkaZNRQ"
      }
    },
    {
      "cell_type": "markdown",
      "source": [
        "Answer Here."
      ],
      "metadata": {
        "id": "DVPuT8LYZNRQ"
      }
    },
    {
      "cell_type": "markdown",
      "source": [
        "##### 2. What is/are the insight(s) found from the chart?"
      ],
      "metadata": {
        "id": "YPEH6qLeZNRQ"
      }
    },
    {
      "cell_type": "markdown",
      "source": [
        "Answer Here"
      ],
      "metadata": {
        "id": "bfSqtnDqZNRR"
      }
    },
    {
      "cell_type": "markdown",
      "source": [
        "#### Chart - 15 - Pair Plot"
      ],
      "metadata": {
        "id": "q29F0dvdveiT"
      }
    },
    {
      "cell_type": "code",
      "source": [
        "# Pair Plot visualization code"
      ],
      "metadata": {
        "id": "o58-TEIhveiU"
      },
      "execution_count": null,
      "outputs": []
    },
    {
      "cell_type": "markdown",
      "source": [
        "##### 1. Why did you pick the specific chart?"
      ],
      "metadata": {
        "id": "EXh0U9oCveiU"
      }
    },
    {
      "cell_type": "markdown",
      "source": [
        "Answer Here."
      ],
      "metadata": {
        "id": "eMmPjTByveiU"
      }
    },
    {
      "cell_type": "markdown",
      "source": [
        "##### 2. What is/are the insight(s) found from the chart?"
      ],
      "metadata": {
        "id": "22aHeOlLveiV"
      }
    },
    {
      "cell_type": "markdown",
      "source": [
        "Answer Here"
      ],
      "metadata": {
        "id": "uPQ8RGwHveiV"
      }
    },
    {
      "cell_type": "markdown",
      "source": [
        "## **5. Solution to Business Objective**"
      ],
      "metadata": {
        "id": "JcMwzZxoAimU"
      }
    },
    {
      "cell_type": "markdown",
      "source": [
        "#### What do you suggest the client to achieve Business Objective ?\n",
        "Explain Briefly."
      ],
      "metadata": {
        "id": "8G2x9gOozGDZ"
      }
    },
    {
      "cell_type": "markdown",
      "source": [
        "**Solution to Reduce Customer Churn**\n",
        "\n",
        "*\tModify International Plan as the charge is same as normal one.\n",
        "*\tBe proactive with communication.\n",
        "*\tAsk for feedback often.\n",
        "*\tPeriodically throw Offers to retain customers.\n",
        "*\tLook at the customers facing problem in  the most churning states.\n",
        "*\tLean into  best customers.\n",
        "*\tRegular Server Maintenance.\n",
        "*\tSolving Poor Network Connectivity Issue.\n",
        "*\tDefine a roadmap for new customers.\n",
        "*\tAnalyze churn when it happens.\n",
        "*\tStay competitive."
      ],
      "metadata": {
        "id": "pASKb0qOza21"
      }
    },
    {
      "cell_type": "markdown",
      "source": [
        "# **Conclusion**"
      ],
      "metadata": {
        "id": "gCX9965dhzqZ"
      }
    },
    {
      "cell_type": "markdown",
      "source": [
        "The telecommunications market is already well-established, and the rate of new\n",
        "customers is slow. As a result, companies in this industry prioritize retention and\n",
        "reducing customer churn. This project analyzed a churn dataset to identify the\n",
        "main factors contributing to churn and gain valuable insights. Through exploratory\n",
        "data analysis, we were able to gain insight into the churn dataset, listed below:\n",
        "\n",
        "1. The four charge fields are directly related to the minute fields.\n",
        "\n",
        "2. The area code may not be relevant and can be excluded.\n",
        "\n",
        "3. Customers with the International Plan tend to churn more often.\n",
        "\n",
        "4. Customers who have had four or more customer service calls churn significantly more than other customers.\n",
        "\n",
        "5. Customers with high day and evening minute usage tend to churn at a higher rate.\n",
        "\n",
        "6. There is no clear relationship between churn and the variables such as day calls, evening calls, night calls, international calls, night minutes, international minutes, account length, or voice mail messages.\n"
      ],
      "metadata": {
        "id": "Fjb1IsQkh3yE"
      }
    },
    {
      "cell_type": "markdown",
      "source": [
        "### ***Hurrah! You have successfully completed your EDA Capstone Project !!!***"
      ],
      "metadata": {
        "id": "gIfDvo9L0UH2"
      }
    }
  ]
}